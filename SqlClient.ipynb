{
    "cells": [
        {
            "cell_type": "code",
            "execution_count": null,
            "metadata": {
                "dotnet_interactive": {
                    "language": "csharp"
                },
                "polyglot_notebook": {
                    "kernelName": "csharp"
                },
                "vscode": {
                    "languageId": "polyglot-notebook"
                }
            },
            "outputs": [],
            "source": [
                "var dumpFilePath = await Kernel.GetInputAsync(\n",
                "    \"Please provide a memory dump file.\",\n",
                "    typeHint: \"file\");"
            ]
        },
        {
            "cell_type": "code",
            "execution_count": null,
            "metadata": {
                "dotnet_interactive": {
                    "language": "csharp"
                },
                "polyglot_notebook": {
                    "kernelName": "csharp"
                },
                "vscode": {
                    "languageId": "polyglot-notebook"
                }
            },
            "outputs": [],
            "source": [
                "#r \"nuget: Microsoft.Diagnostics.Runtime, 3.0.0-beta.23214.4\"\n",
                "\n",
                "using Microsoft.Diagnostics.Runtime;\n",
                "using Microsoft.DotNet.Interactive;\n",
                "using Microsoft.DotNet.Interactive.Formatting;\n",
                "using System;\n",
                "\n",
                "Formatter.Register<UIntPtr>(n => n.ToString(\"x16\"), \"text/html\");\n",
                "Formatter.ListExpansionLimit = int.MaxValue;"
            ]
        },
        {
            "cell_type": "code",
            "execution_count": null,
            "metadata": {
                "dotnet_interactive": {
                    "language": "csharp"
                },
                "polyglot_notebook": {
                    "kernelName": "csharp"
                },
                "vscode": {
                    "languageId": "polyglot-notebook"
                }
            },
            "outputs": [],
            "source": [
                "public static IEnumerable<ClrObject> GetEnumerator(this ClrArray clrArray)\n",
                "{\n",
                "    for (var i = 0; i < clrArray.Length; i++)\n",
                "    {\n",
                "        yield return clrArray.GetObjectValue(i);\n",
                "    }\n",
                "}\n",
                "\n",
                "public static IEnumerable<ClrObject> GetListOfTEnumerator(this ClrObject listOfTClrObject)\n",
                "{\n",
                "    var count = listOfTClrObject.ReadField<int>(\"_size\");\n",
                "    foreach (var item in listOfTClrObject.ReadObjectField(\"_items\").AsArray().GetEnumerator())\n",
                "    {\n",
                "        if (count-- == 0)\n",
                "        {\n",
                "            yield break;\n",
                "        }\n",
                "        else\n",
                "        {\n",
                "            yield return item;\n",
                "        }\n",
                "    }\n",
                "}\n",
                "\n",
                "\n",
                "public static object GetSqlParameters(this ClrObject sqlParameterCollectionClrObject)\n",
                "{\n",
                "    if (sqlParameterCollectionClrObject.IsNull)\n",
                "    {\n",
                "        return new\n",
                "        {\n",
                "            Address = \"0000000000000000\",\n",
                "        };\n",
                "    }\n",
                "\n",
                "    return new\n",
                "    {\n",
                "        Address = (UIntPtr)(sqlParameterCollectionClrObject.Address),\n",
                "        IsDirty = sqlParameterCollectionClrObject.ReadField<bool>(\"_isDirty\"),\n",
                "        Parameters = from parameter in sqlParameterCollectionClrObject.ReadObjectField(\"_items\").GetListOfTEnumerator()\n",
                "                     select new\n",
                "                     {\n",
                "                         Address = (UIntPtr)(parameter.Address),\n",
                "                         ParameterName = parameter.ReadStringField(\"_parameterName\"),\n",
                "                         Value = GetValue(parameter),\n",
                "                     },\n",
                "    };\n",
                "    \n",
                "    object GetValue(ClrObject sqlParameter)\n",
                "    {\n",
                "        var value = sqlParameter.ReadObjectField(\"_value\");\n",
                "        \n",
                "        return value.Type.Name switch\n",
                "        {\n",
                "            \"System.Int32\" => value.ReadBoxedValue<int>(),\n",
                "            \"System.String\" => value.AsString(),\n",
                "            \"System.DBNull\" => \"NULL\",\n",
                "            _ => value.ToString(),\n",
                "        };\n",
                "    }\n",
                "}\n",
                "\n",
                "public static string ToStorageTypeString(this int storageType)\n",
                "    => storageType switch\n",
                "    {\n",
                "        0 => $\"Empty ({storageType})\",\n",
                "        1 => $\"Boolean ({storageType})\",\n",
                "        2 => $\"Byte ({storageType})\",\n",
                "        3 => $\"DateTime ({storageType})\",\n",
                "        4 => $\"Decimal ({storageType})\",\n",
                "        5 => $\"Double ({storageType})\",\n",
                "        6 => $\"Int16 ({storageType})\",\n",
                "        7 => $\"Int32 ({storageType})\",\n",
                "        8 => $\"Int64 ({storageType})\",\n",
                "        9 => $\"Money ({storageType})\",\n",
                "        10 => $\"Single ({storageType})\",\n",
                "        11 => $\"String ({storageType})\",\n",
                "        12 => $\"SqlBinary ({storageType})\",\n",
                "        13 => $\"SqlCachedBuffer ({storageType})\",\n",
                "        14 => $\"SqlGuid ({storageType})\",\n",
                "        15 => $\"SqlXml ({storageType})\",\n",
                "        16 => $\"Date ({storageType})\",\n",
                "        17 => $\"DateTime2 ({storageType})\",\n",
                "        18 => $\"DateTimeOffset ({storageType})\",\n",
                "        19 => $\"Time ({storageType})\",\n",
                "        _ => $\"Unknown ({storageType})\",\n",
                "    };\n",
                "\n",
                "public static string ToSqlBufferValueString(this ClrObject sqlBufferClrObject)\n",
                "    => sqlBufferClrObject.ReadField<int>(\"_type\") switch\n",
                "    {\n",
                "        0 => \"<empty>\",\n",
                "        1 => $\"{sqlBufferClrObject.ReadValueTypeField(\"_value\").ReadField<bool>(\"_boolean\")} (SqlBoolean)\",\n",
                "        //2=>,\n",
                "        //3=>,\n",
                "        //4=>,\n",
                "        //5=>,\n",
                "        //6=>,\n",
                "        7 => $\"{sqlBufferClrObject.ReadValueTypeField(\"_value\").ReadField<int>(\"_int32\")} (SqlInt32)\",\n",
                "        //8=>,\n",
                "        //9=>,\n",
                "        //10=>,\n",
                "        11 => $\"{sqlBufferClrObject.ReadObjectField(\"_object\").AsString()} ({(UIntPtr)(sqlBufferClrObject.ReadObjectField(\"_object\").Address)} SqlString)\",\n",
                "        //12=>,\n",
                "        //13=>,\n",
                "        //14=>,\n",
                "        //15=>,\n",
                "        //16=>,\n",
                "        //17=>,\n",
                "        //18=>,\n",
                "        //19=>,\n",
                "        _ => \"???\",\n",
                "    };"
            ]
        },
        {
            "cell_type": "code",
            "execution_count": null,
            "metadata": {
                "dotnet_interactive": {
                    "language": "csharp"
                },
                "polyglot_notebook": {
                    "kernelName": "csharp"
                },
                "vscode": {
                    "languageId": "polyglot-notebook"
                }
            },
            "outputs": [],
            "source": [
                "using (var dataTarget = DataTarget.LoadDump(dumpFilePath))\n",
                "{\n",
                "    foreach (var version in dataTarget.ClrVersions)\n",
                "    {\n",
                "        var clrRuntime = version.CreateRuntime();\n",
                "\n",
                "        if (!clrRuntime.Heap.CanWalkHeap)\n",
                "        {\n",
                "            Console.WriteLine(\"Cannot walk the heap!\");\n",
                "            continue;\n",
                "        }\n",
                "                \n",
                "        var sqlConnections = (from clrObject in clrRuntime.Heap.EnumerateObjects()\n",
                "                              where clrObject.IsValid && !clrObject.IsFree && clrObject.Type.Name == \"System.Data.SqlClient.SqlConnection\"\n",
                "                              select new\n",
                "                              {\n",
                "                                  Address = (UIntPtr)(clrObject.Address),\n",
                "                                  ObjectID = clrObject.ReadField<int>(\"ObjectID\"),\n",
                "                                  OriginalConnectionId = clrObject.ReadField<Guid>(\"_originalConnectionId\"),\n",
                "                                  ReconnectCount = clrObject.ReadField<int>(\"_reconnectCount\"),\n",
                "                                  ConnectRetryCount = clrObject.ReadField<int>(\"_connectRetryCount\"),\n",
                "                                  CloseCount = clrObject.ReadField<int>(\"_closeCount\"),\n",
                "                                  AsyncCommandInProgress = clrObject.ReadField<bool>(\"_AsyncCommandInProgress\"),\n",
                "                                  InnerConnection = clrObject.ReadObjectField(\"_innerConnection\").ToString(),\n",
                "                              })\n",
                "                              .OrderBy(sc => sc.ObjectID);\n",
                "\n",
                "        sqlConnections.Display();\n",
                "\n",
                "        var sqlCommands = (from clrObject in clrRuntime.Heap.EnumerateObjects()\n",
                "                           where clrObject.IsValid && !clrObject.IsFree && clrObject.Type.Name == \"System.Data.SqlClient.SqlCommand\"\n",
                "                           select new\n",
                "                           {\n",
                "                               Address = (UIntPtr)(clrObject.Address),\n",
                "                               ObjectID = clrObject.ReadField<int>(\"ObjectID\"),\n",
                "                               ActiveConnection = (UIntPtr)(clrObject.ReadObjectField(\"_activeConnection\").Address),\n",
                "                               CommandText = clrObject.ReadStringField(\"_commandText\")?.Split(\"\\\\r\\\\n\"),\n",
                "                               CommandType = $\"{clrObject.ReadField<System.Data.CommandType>(\"_commandType\")} ({clrObject.ReadField<int>(\"_commandType\")}) (System.Data.CommandType)\",\n",
                "                               Parameters = clrObject.ReadObjectField(\"_parameters\").GetSqlParameters(),\n",
                "                               CachedMetaData = (UIntPtr)(clrObject.ReadObjectField(\"_cachedMetaData\").Address),\n",
                "                           })\n",
                "                           .OrderBy(sc => sc.ObjectID);\n",
                "\n",
                "        sqlCommands.Display();\n",
                "\n",
                "        var sqlDataReaders = (from clrObject in clrRuntime.Heap.EnumerateObjects()\n",
                "                              where clrObject.IsValid && !clrObject.IsFree && clrObject.Type.Name == \"System.Data.SqlClient.SqlDataReader\"\n",
                "                              select new\n",
                "                              {\n",
                "                                  Address = (UIntPtr)(clrObject.Address),\n",
                "                                  ObjectID = clrObject.ReadField<int>(\"ObjectID\"),\n",
                "                                  IsInitialized = clrObject.ReadField<bool>(\"_isInitialized\"),\n",
                "                                  IsClosed = clrObject.ReadField<bool>(\"_isClosed\"),\n",
                "                                  MetaDataConsumed = clrObject.ReadField<bool>(\"_metaDataConsumed\"),\n",
                "                                  HasRows = clrObject.ReadField<bool>(\"_hasRows\"),\n",
                "                                  SharedState = (UIntPtr)(clrObject.ReadObjectField(\"_sharedState\").Address),\n",
                "                                  Parser = (UIntPtr)(clrObject.ReadObjectField(\"_parser\").Address),\n",
                "                                  StateObject = (UIntPtr)(clrObject.ReadObjectField(\"_stateObj\").Address),\n",
                "                                  Command = (UIntPtr)(clrObject.ReadObjectField(\"_command\").Address),\n",
                "                                  Connection = (UIntPtr)(clrObject.ReadObjectField(\"_connection\").Address),\n",
                "                                  Data = (UIntPtr)(clrObject.ReadObjectField(\"_data\").Address),\n",
                "                                  MetaData = (UIntPtr)(clrObject.ReadObjectField(\"_metaData\").Address),\n",
                "                              })\n",
                "                              .OrderBy(sdr => sdr.ObjectID);\n",
                "\n",
                "        sqlDataReaders.Display();\n",
                "\n",
                "        var sqlBufferArrays = (from clrObject in clrRuntime.Heap.EnumerateObjects()\n",
                "                               where clrObject.IsValid && !clrObject.IsFree && clrObject.IsArray && clrObject.Type.Name == \"System.Data.SqlClient.SqlBuffer[]\"\n",
                "                               let clrArray = clrObject.AsArray()\n",
                "                               select new\n",
                "                               {\n",
                "                                   Address = (UIntPtr)(clrObject.Address),\n",
                "                                   Items = from item in clrArray.GetEnumerator()\n",
                "                                           select new\n",
                "                                           {\n",
                "                                               Address = (UIntPtr)(clrArray.Address),\n",
                "                                               Value = item.ToSqlBufferValueString(),\n",
                "                                               Type = item.ReadField<int>(\"_type\").ToStorageTypeString(),\n",
                "                                               IsNull = item.ReadField<bool>(\"_isNull\"),\n",
                "                                           }\n",
                "                               }).ToList();\n",
                "\n",
                "        sqlBufferArrays.Display();\n",
                " \n",
                "        var sqlMetaDataSets = (from clrObject in clrRuntime.Heap.EnumerateObjects()\n",
                "                               where clrObject.IsValid && !clrObject.IsFree && clrObject.Type.Name == \"System.Data.SqlClient._SqlMetaDataSet\"\n",
                "                               select new\n",
                "                               {\n",
                "                                   Address = (UIntPtr)(clrObject.Address),\n",
                "                                   Id = clrObject.ReadField<ushort>(\"id\"),\n",
                "                                   VisibleColumns = clrObject.ReadField<int>(\"visibleColumns\"),\n",
                "                                   SchemaTable = (UIntPtr)(clrObject.Address),\n",
                "                                   MetaDataArray = from item in clrObject.ReadObjectField(\"metaDataArray\").AsArray().GetEnumerator()\n",
                "                                                   let type = item.ReadField<int>(\"type\")\n",
                "                                                   select new\n",
                "                                                   {\n",
                "                                                       Address = (UIntPtr)(item.Address),\n",
                "                                                       ColumnName = item.ReadStringField(\"column\"),\n",
                "                                                       Type = $\"{(System.Data.SqlDbType)type} ({type}) (System.Data.SqlDbType)\",\n",
                "                                                   }\n",
                "                               }).ToList();\n",
                "\n",
                "        sqlMetaDataSets.Display();\n",
                "    }\n",
                "}"
            ]
        }
    ],
    "metadata": {
        "kernelspec": {
            "display_name": ".NET (C#)",
            "language": "C#",
            "name": ".net-csharp"
        },
        "language_info": {
            "name": "csharp"
        },
        "orig_nbformat": 4,
        "polyglot_notebook": {
            "kernelInfo": {
                "defaultKernelName": "csharp",
                "items": [
                    {
                        "aliases": [],
                        "name": "csharp"
                    }
                ]
            }
        }
    },
    "nbformat": 4,
    "nbformat_minor": 2
}
