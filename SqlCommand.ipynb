{
 "cells": [
  {
   "cell_type": "code",
   "execution_count": null,
   "metadata": {
    "dotnet_interactive": {
     "language": "csharp"
    },
    "polyglot_notebook": {
     "kernelName": "csharp"
    }
   },
   "outputs": [],
   "source": [
    "var dumpFilePath = await Kernel.GetInputAsync(\n",
    "    \"Please provide a memory dump file.\",\n",
    "    typeHint: \"file\");"
   ]
  },
  {
   "cell_type": "code",
   "execution_count": null,
   "metadata": {
    "dotnet_interactive": {
     "language": "csharp"
    },
    "polyglot_notebook": {
     "kernelName": "csharp"
    }
   },
   "outputs": [],
   "source": [
    "#r \"nuget: Microsoft.Diagnostics.Runtime, 3.0.0-beta.23214.4\"\n",
    "\n",
    "using Microsoft.Diagnostics.Runtime;\n",
    "using Microsoft.DotNet.Interactive;\n",
    "using Microsoft.DotNet.Interactive.Formatting;\n",
    "using System;\n",
    "\n",
    "Formatter.Register<ulong>(n => n.ToString(\"x16\"), \"text/html\");\n",
    "Formatter.ListExpansionLimit = int.MaxValue;"
   ]
  },
  {
   "cell_type": "code",
   "execution_count": null,
   "metadata": {
    "dotnet_interactive": {
     "language": "csharp"
    },
    "polyglot_notebook": {
     "kernelName": "csharp"
    }
   },
   "outputs": [],
   "source": [
    "using (var dataTarget = DataTarget.LoadDump(dumpFilePath))\n",
    "{\n",
    "    foreach (var version in dataTarget.ClrVersions)\n",
    "    {\n",
    "        var clrRuntime = version.CreateRuntime();\n",
    "\n",
    "        if (!clrRuntime.Heap.CanWalkHeap)\n",
    "        {\n",
    "            Console.WriteLine(\"Cannot walk the heap!\");\n",
    "            continue;\n",
    "        }\n",
    "\n",
    "        var sqlCommandRoots = (from clrObject in clrRuntime.Heap.EnumerateObjects()\n",
    "                        where clrObject.IsValid && !clrObject.IsFree || clrObject.Type.Name != \"System.Data.SqlClient.SqlCommand\"\n",
    "                        from referenceClrObject in clrObject.EnumerateReferencesWithFields()\n",
    "                        where referenceClrObject.Object.Type.Name == \"System.Data.SqlClient.SqlCommand\"\n",
    "                        select new\n",
    "                        {\n",
    "                            SqlCommand = referenceClrObject.Object.Address,\n",
    "                            Root = new\n",
    "                            {\n",
    "                                Address = clrObject.Address,\n",
    "                                Type = clrObject.Type.Name,\n",
    "                                Field = referenceClrObject.Field.Name,\n",
    "                            }\n",
    "                        }).ToLookup(r => r.SqlCommand, r => r.Root);\n",
    "\n",
    "\t\tvar sqlCommands = from clrObject in clrRuntime.Heap.EnumerateObjects()\n",
    "\t\t\t\t\t\t  where clrObject.IsValid && !clrObject.IsFree && clrObject.Type.Name == \"System.Data.SqlClient.SqlCommand\"\n",
    "\t\t\t\t\t\t  select new\n",
    "\t\t\t\t\t\t  {\n",
    "\t\t\t\t\t\t\t  Address = clrObject.Address,\n",
    "\t\t\t\t\t\t\t  ConnectionAddress = clrObject.ReadObjectField(\"_activeConnection\").Address,\n",
    "\t\t\t\t\t\t\t  CommandText = clrObject.ReadStringField(\"_commandText\"),\n",
    "\t\t\t\t\t\t\t  Roots = sqlCommandRoots[clrObject.Address].ToList(),\n",
    "\t\t\t\t\t\t  };\n",
    "\n",
    "        sqlCommands.Display();\n",
    "    }\n",
    "}\n"
   ]
  }
 ],
 "metadata": {
  "kernelspec": {
   "display_name": ".NET (C#)",
   "language": "C#",
   "name": ".net-csharp"
  },
  "language_info": {
   "name": "polyglot-notebook"
  },
  "orig_nbformat": 4,
  "polyglot_notebook": {
   "kernelInfo": {
    "defaultKernelName": "csharp",
    "items": [
     {
      "aliases": [],
      "name": "csharp"
     }
    ]
   }
  }
 },
 "nbformat": 4,
 "nbformat_minor": 2
}
